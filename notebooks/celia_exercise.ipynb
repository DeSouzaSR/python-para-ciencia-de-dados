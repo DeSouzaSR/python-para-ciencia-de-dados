{
 "cells": [
  {
   "cell_type": "markdown",
   "metadata": {},
   "source": [
    "# Exercício de Python para Ciência de Dados\n",
    "\n",
    "Celia faz uma viagem regular de carro para o trabalho que, anteriormente levava uma média de 42 minutos. O conselho local alterou recentemente o layout da estrada e Celia está convencida de que isso aumentou o tempo de viagem. Para investigar, ela registra o tempo de 12 viagens. As 12 viagens têm um tempo médio de 50 minutos e um desvio padrão de 15 minutos.\n",
    "\n",
    "Realize um teste de hipótese adequado no nível de 5% para identificar se há evidências de sua discordância de que o tempo médio de viagem aumentou."
   ]
  },
  {
   "cell_type": "markdown",
   "metadata": {},
   "source": [
    "## Tratamento matemático para o problema\n",
    "\n",
    "$H_0: \\mu = 42 min$ - hipótese nula. \n",
    "\n",
    "$H_1: \\mu > 42 min$ - hipótese alternativa.\n",
    "\n",
    "Este é um teste unicaudal porque $\\mu$ deve ser maior que $42 min$. \n",
    "\n",
    "![Teste unicaudal](https://datatab.net/assets/tutorial/One_tailed_and_two_tailed_t-test.png) \n",
    "\n",
    "Portanto, a área de rejeição é de $0.05$ ou $5\\%$\n",
    "\n",
    "$df = n - 1 = 12 - 1 = 11$ graus de liberdade da amostra\n",
    "\n",
    "Olhando na tabela de distribuições t:\n",
    "\n",
    "Valor crítico = $1.796$\n",
    "\n",
    "Temos que \n",
    "$$\n",
    "t = \\frac{\\bar{x} - \\mu_0}{s/\\sqrt{n}}\n",
    "$$\n",
    "\n",
    "onde\n",
    "\n",
    "$n=12$\n",
    "\n",
    "$\\bar{x} = 50$\n",
    "\n",
    "$s = 15$\n",
    "\n",
    "$\\mu_0 = 42$\n",
    "\n"
   ]
  },
  {
   "cell_type": "markdown",
   "metadata": {},
   "source": []
  }
 ],
 "metadata": {
  "language_info": {
   "name": "python"
  }
 },
 "nbformat": 4,
 "nbformat_minor": 2
}
