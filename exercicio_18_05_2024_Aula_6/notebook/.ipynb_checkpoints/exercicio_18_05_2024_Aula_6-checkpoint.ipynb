{
 "cells": [
  {
   "cell_type": "markdown",
   "metadata": {
    "id": "w5131sK82Xwc"
   },
   "source": [
    "# Atividade 1 - Teste de Hipótese para uma amostra\n",
    "\n",
    "Fazer o teste de Hipótese para o problema abaixo\n",
    "\n",
    "A quantidade de calorias de um produto (v.a. X) é tal que $X \\sim N(\\mu, \\sigma^2)$\n",
    ").<br>Onde: <br>\n",
    "$\\mu$ = média populacional e <br>\n",
    "$\\sigma^2$ = variância populacional.<br>\n",
    "Para a indústria, $\\mu = 31$, mas para a Agência Reguladora $\\mu \\neq 31$. Para avaliar quem está com a razão foi tirada uma amostra de tamanho $25$ desse produto, cujos valores são apresentados no arquivo ```Amostras-Industria.csv``` (publicado no classroom).\n",
    "\n",
    "\n",
    "1. Formule as Hipótese $H_0$:  e $H_1$:\n",
    "2. Defina o nível de significância $\\alpha = 1 - \\text{IC}$, onde $\\text{IC}$ é o intervalo de confiança. (Ex.: para um intervalo de confiança de $95\\%$, $\\alpha = 5\\% = 0.05$.\n",
    "3. Realize o procedimento abaixo e tire sua conclusão."
   ]
  },
  {
   "cell_type": "markdown",
   "metadata": {},
   "source": [
    "## 1.1 Formulação da hipótese nula e da hipótese alternativa\n",
    "\n",
    "$H_0: \\mu = 31$ \\\n",
    "$H_1: \\mu \\neq 31$\n",
    "\n",
    "Portanto, estamos interessados no teste t de Students, para uma amostra, bicaudal"
   ]
  },
  {
   "cell_type": "markdown",
   "metadata": {
    "id": "irl_gaUN-N0n"
   },
   "source": [
    "## 1.2 Importando os módulos necessários"
   ]
  },
  {
   "cell_type": "code",
   "execution_count": 39,
   "metadata": {
    "id": "DPUqW0_Y9jzt"
   },
   "outputs": [],
   "source": [
    "import pandas as pd\n",
    "import math\n",
    "from scipy import stats as st"
   ]
  },
  {
   "cell_type": "markdown",
   "metadata": {},
   "source": [
    "## 1.3 Definindo a função para o cálculo do teste t\n",
    "\n",
    "$$\n",
    "t = \\frac{\\bar{x} - \\mu_0}{s / \\sqrt{n}}\n",
    "$$\\\n",
    "onde\\\n",
    "$\\bar{x}$ é a média amostral\\\n",
    "$\\mu_0$ é a média populacional\\\n",
    "$s$ é o desvio padrão\\\n",
    "$n$ e o número de observações"
   ]
  },
  {
   "cell_type": "code",
   "execution_count": 28,
   "metadata": {},
   "outputs": [],
   "source": [
    "def t_test(mu_0, n, xbar, sd):\n",
    "    return (xbar - mu_0) / (sd / math.sqrt(n))"
   ]
  },
  {
   "cell_type": "markdown",
   "metadata": {
    "id": "rdfAtm8r-imw"
   },
   "source": [
    "## 1.4 Carregando os dados"
   ]
  },
  {
   "cell_type": "code",
   "execution_count": 29,
   "metadata": {
    "colab": {
     "base_uri": "https://localhost:8080/",
     "height": 381
    },
    "id": "rpQeD2_o-1jz",
    "outputId": "10ff2a28-aeaf-48fe-8930-02fb1084ce61"
   },
   "outputs": [],
   "source": [
    "df=pd.read_csv(\"../dados/dados_brutos/Amostras-Industria.csv\", usecols=['Cal'])"
   ]
  },
  {
   "cell_type": "code",
   "execution_count": 30,
   "metadata": {},
   "outputs": [
    {
     "data": {
      "text/html": [
       "<div>\n",
       "<style scoped>\n",
       "    .dataframe tbody tr th:only-of-type {\n",
       "        vertical-align: middle;\n",
       "    }\n",
       "\n",
       "    .dataframe tbody tr th {\n",
       "        vertical-align: top;\n",
       "    }\n",
       "\n",
       "    .dataframe thead th {\n",
       "        text-align: right;\n",
       "    }\n",
       "</style>\n",
       "<table border=\"1\" class=\"dataframe\">\n",
       "  <thead>\n",
       "    <tr style=\"text-align: right;\">\n",
       "      <th></th>\n",
       "      <th>Cal</th>\n",
       "    </tr>\n",
       "  </thead>\n",
       "  <tbody>\n",
       "    <tr>\n",
       "      <th>0</th>\n",
       "      <td>30.55</td>\n",
       "    </tr>\n",
       "    <tr>\n",
       "      <th>1</th>\n",
       "      <td>29.88</td>\n",
       "    </tr>\n",
       "    <tr>\n",
       "      <th>2</th>\n",
       "      <td>28.95</td>\n",
       "    </tr>\n",
       "  </tbody>\n",
       "</table>\n",
       "</div>"
      ],
      "text/plain": [
       "     Cal\n",
       "0  30.55\n",
       "1  29.88\n",
       "2  28.95"
      ]
     },
     "execution_count": 30,
     "metadata": {},
     "output_type": "execute_result"
    }
   ],
   "source": [
    "df.head(3)"
   ]
  },
  {
   "cell_type": "markdown",
   "metadata": {},
   "source": [
    "## 1.5 Definindo as variáveis\n",
    "\n",
    "$t_c = 2.064$, t crítico, obtido na tabela para $\\alpha = 0.05$ e $\\text{df} = n - 1 = 25 - 1 = 24$, considerando a tabela para duas caudas."
   ]
  },
  {
   "cell_type": "code",
   "execution_count": 31,
   "metadata": {},
   "outputs": [],
   "source": [
    "mu_0 = 31 # Média de calorias alegada pela industria\n",
    "n = len(df['Cal']) # nº de observações\n",
    "t_critico = 2.064 # t crítico bicaudal obtido na tabela t de student para\n",
    "                    # alfa = 0.05 = 5%\n",
    "xbar = df['Cal'].mean() # média da amostra [g]\n",
    "sd = df['Cal'].std() # desvio padrão [g]"
   ]
  },
  {
   "cell_type": "markdown",
   "metadata": {},
   "source": [
    "## 1.6 Cálculo do valor de t"
   ]
  },
  {
   "cell_type": "code",
   "execution_count": 32,
   "metadata": {},
   "outputs": [
    {
     "name": "stdout",
     "output_type": "stream",
     "text": [
      "Valor de t: 2.6999430318030373\n"
     ]
    }
   ],
   "source": [
    "t = t_test( mu_0, n, xbar, sd)\n",
    "\n",
    "print(f\"Valor de t: {t}\")"
   ]
  },
  {
   "cell_type": "markdown",
   "metadata": {
    "id": "T7l_B_BWJvx2"
   },
   "source": [
    "## 1.7 Discutindo os resultados\n",
    "\n",
    "Como $ t > t_c$ ou $t < -tc$, está fora do intervalo de aceitação de $H_0$, rejeitamos a hipótese nula. Portanto, a média das calorias é diferente de 31"
   ]
  },
  {
   "cell_type": "markdown",
   "metadata": {
    "id": "PW0MMNX5EycO"
   },
   "source": [
    "# Atividade 2 - Repita o proceimento anterior para o problema abaixo:\n",
    "\n",
    "Segundo os jornais, no Brasil  o número médio de linhas de celular por habitante  é  dois ($\\mu=2$). Você gostaria de verificar se essa média  se repete na comunidade escolar de uma universidade com 5000 estudantes. Para isso vc fez um experimento. Coletou informações sobre o número de linhas   de uma amostra com 30 estudante. Agora vc deseja saber com, sigficância de 2%"
   ]
  },
  {
   "cell_type": "markdown",
   "metadata": {
    "id": "BeXNTW_bApYY"
   },
   "source": [
    "## 2.1 Criando o Data Set\n",
    "\n",
    "Com a biblioteca Pandas\n",
    "\n"
   ]
  },
  {
   "cell_type": "code",
   "execution_count": 40,
   "metadata": {
    "id": "bi6cmnWb6ku3"
   },
   "outputs": [
    {
     "data": {
      "text/html": [
       "<div>\n",
       "<style scoped>\n",
       "    .dataframe tbody tr th:only-of-type {\n",
       "        vertical-align: middle;\n",
       "    }\n",
       "\n",
       "    .dataframe tbody tr th {\n",
       "        vertical-align: top;\n",
       "    }\n",
       "\n",
       "    .dataframe thead th {\n",
       "        text-align: right;\n",
       "    }\n",
       "</style>\n",
       "<table border=\"1\" class=\"dataframe\">\n",
       "  <thead>\n",
       "    <tr style=\"text-align: right;\">\n",
       "      <th></th>\n",
       "      <th>X</th>\n",
       "    </tr>\n",
       "  </thead>\n",
       "  <tbody>\n",
       "    <tr>\n",
       "      <th>0</th>\n",
       "      <td>1</td>\n",
       "    </tr>\n",
       "    <tr>\n",
       "      <th>1</th>\n",
       "      <td>3</td>\n",
       "    </tr>\n",
       "    <tr>\n",
       "      <th>2</th>\n",
       "      <td>2</td>\n",
       "    </tr>\n",
       "    <tr>\n",
       "      <th>3</th>\n",
       "      <td>1</td>\n",
       "    </tr>\n",
       "    <tr>\n",
       "      <th>4</th>\n",
       "      <td>2</td>\n",
       "    </tr>\n",
       "    <tr>\n",
       "      <th>5</th>\n",
       "      <td>3</td>\n",
       "    </tr>\n",
       "    <tr>\n",
       "      <th>6</th>\n",
       "      <td>1</td>\n",
       "    </tr>\n",
       "    <tr>\n",
       "      <th>7</th>\n",
       "      <td>3</td>\n",
       "    </tr>\n",
       "    <tr>\n",
       "      <th>8</th>\n",
       "      <td>3</td>\n",
       "    </tr>\n",
       "    <tr>\n",
       "      <th>9</th>\n",
       "      <td>1</td>\n",
       "    </tr>\n",
       "  </tbody>\n",
       "</table>\n",
       "</div>"
      ],
      "text/plain": [
       "   X\n",
       "0  1\n",
       "1  3\n",
       "2  2\n",
       "3  1\n",
       "4  2\n",
       "5  3\n",
       "6  1\n",
       "7  3\n",
       "8  3\n",
       "9  1"
      ]
     },
     "execution_count": 40,
     "metadata": {},
     "output_type": "execute_result"
    }
   ],
   "source": [
    "# Criando o DataSet da comunidade Universitária\n",
    "Estudantes=pd.DataFrame({\"X\":st.binom.rvs(4, 0.5, size=5000)})\n",
    "Estudantes.head(10)"
   ]
  },
  {
   "cell_type": "markdown",
   "metadata": {
    "id": "NCT_kBhPAv0L"
   },
   "source": [
    "## 2.2 Selecionando uma amostra\n",
    "\n",
    "Amostra com 30 indivíduos e seleção sem reposição"
   ]
  },
  {
   "cell_type": "code",
   "execution_count": 43,
   "metadata": {
    "id": "AGTWOqmyAHql"
   },
   "outputs": [
    {
     "data": {
      "text/html": [
       "<div>\n",
       "<style scoped>\n",
       "    .dataframe tbody tr th:only-of-type {\n",
       "        vertical-align: middle;\n",
       "    }\n",
       "\n",
       "    .dataframe tbody tr th {\n",
       "        vertical-align: top;\n",
       "    }\n",
       "\n",
       "    .dataframe thead th {\n",
       "        text-align: right;\n",
       "    }\n",
       "</style>\n",
       "<table border=\"1\" class=\"dataframe\">\n",
       "  <thead>\n",
       "    <tr style=\"text-align: right;\">\n",
       "      <th></th>\n",
       "      <th>X</th>\n",
       "    </tr>\n",
       "  </thead>\n",
       "  <tbody>\n",
       "    <tr>\n",
       "      <th>28</th>\n",
       "      <td>3</td>\n",
       "    </tr>\n",
       "    <tr>\n",
       "      <th>2311</th>\n",
       "      <td>1</td>\n",
       "    </tr>\n",
       "    <tr>\n",
       "      <th>3746</th>\n",
       "      <td>2</td>\n",
       "    </tr>\n",
       "  </tbody>\n",
       "</table>\n",
       "</div>"
      ],
      "text/plain": [
       "      X\n",
       "28    3\n",
       "2311  1\n",
       "3746  2"
      ]
     },
     "execution_count": 43,
     "metadata": {},
     "output_type": "execute_result"
    }
   ],
   "source": [
    "# extraíndo uma amostra aleatória simples\n",
    "amostra=Estudantes.sample(30,replace=False,)\n",
    "amostra.head(3)"
   ]
  },
  {
   "cell_type": "code",
   "execution_count": 50,
   "metadata": {},
   "outputs": [],
   "source": [
    "amostra.to_csv('../dados/amostra_universitarios.csv', index=False)"
   ]
  },
  {
   "cell_type": "markdown",
   "metadata": {
    "id": "K4FFdoYaBTjF"
   },
   "source": [
    "## 2.3 Executando o teste de Hipotese\n",
    "\n",
    "Fazer o teste de Hipótese para a significância solicitada (2%)"
   ]
  },
  {
   "cell_type": "markdown",
   "metadata": {},
   "source": [
    "### Definindo a hipótese nula e a hipótese alternativa\n",
    "$H_0: \\mu = 2$ \\\n",
    "$H_1: \\mu \\neq 2$\n",
    "\n",
    "Portanto, estamos interessados no teste t de Students, para uma amostra, bicaudal\n"
   ]
  },
  {
   "cell_type": "markdown",
   "metadata": {},
   "source": [
    "### Definições dos valores"
   ]
  },
  {
   "cell_type": "code",
   "execution_count": 44,
   "metadata": {
    "id": "wqAHFlUNAJvX"
   },
   "outputs": [],
   "source": [
    "mu_0 = 2 # Média do número de celulares da população\n",
    "n = len(amostra['X']) # nº de observações\n",
    "t_critico = 2.462 # t crítico bicaudal obtido na tabela t de student para\n",
    "                    # alfa = 0.02 = 2%\n",
    "xbar = amostra['X'].mean() # média da amostra [g]\n",
    "sd = amostra['X'].std() # desvio padrão [g]"
   ]
  },
  {
   "cell_type": "markdown",
   "metadata": {},
   "source": [
    "### Cálculo do teste t"
   ]
  },
  {
   "cell_type": "code",
   "execution_count": 49,
   "metadata": {},
   "outputs": [
    {
     "name": "stdout",
     "output_type": "stream",
     "text": [
      "Valor de t: -1.5108933892962941\n"
     ]
    }
   ],
   "source": [
    "t = t_test(mu_0, n, xbar, sd)\n",
    "print(f\"Valor de t: {t}\")"
   ]
  },
  {
   "cell_type": "code",
   "execution_count": 52,
   "metadata": {},
   "outputs": [
    {
     "data": {
      "text/plain": [
       "-1.5108933892962941"
      ]
     },
     "execution_count": 52,
     "metadata": {},
     "output_type": "execute_result"
    }
   ],
   "source": [
    "max(t,-t_critico)"
   ]
  },
  {
   "cell_type": "markdown",
   "metadata": {
    "id": "MG6HOwmfC49N"
   },
   "source": [
    "## 2.4 Qual foi sua conclusão?\n",
    "\n",
    "A média da comunidade universitária  é igual à brasileira?"
   ]
  },
  {
   "cell_type": "markdown",
   "metadata": {},
   "source": [
    "### Discussão\n",
    "Como o valor de $t > -t_c$, aceitamos a hipótese nula e, portanto, a média da comunidade universitária é igual a média da comunidade brasileira"
   ]
  },
  {
   "cell_type": "markdown",
   "metadata": {
    "id": "dqC65rkaDH9-"
   },
   "source": [
    "# Atividade 3\n",
    "\n",
    "Teste de hipótese  A/B\n",
    "\n",
    "Controle/Tratamento"
   ]
  },
  {
   "cell_type": "markdown",
   "metadata": {
    "id": "Cz2uOJDKDabB"
   },
   "source": [
    "##3.1 Carregar o Data Set\n",
    "\n",
    "Fazer Upload do Arquivo: BaseTeste_A_B.csv"
   ]
  },
  {
   "cell_type": "markdown",
   "metadata": {
    "id": "o3G7DBxwFhqE"
   },
   "source": [
    "## 3.2 Criar Data Frame com as duas Variáveis\n",
    "\n",
    "Controle e teste"
   ]
  },
  {
   "cell_type": "code",
   "execution_count": null,
   "metadata": {
    "id": "64hb5CQNFziK"
   },
   "outputs": [],
   "source": [
    "grupos=pd.read_csv(\"Baseteste_A_B.csv\")\n",
    "grupos.head(10)"
   ]
  },
  {
   "cell_type": "markdown",
   "metadata": {
    "id": "oRfKfNGuGEJl"
   },
   "source": [
    "## 3.3 Aplicando o teste de hipótese\n",
    "\n",
    "Controle e teste são os dois grupos a serem comparados"
   ]
  },
  {
   "cell_type": "code",
   "execution_count": null,
   "metadata": {
    "id": "2ArIcthQJawn"
   },
   "outputs": [],
   "source": [
    "res= st.ttest_ind(grupos[\"Controle\"],grupos[\"teste\"])\n",
    "\n"
   ]
  },
  {
   "cell_type": "markdown",
   "metadata": {
    "id": "SjFMKG1PKGII"
   },
   "source": [
    "## 3.4 Tirando as conclusões\n",
    "Houve diferença entre os dois grupos??\n",
    "\n",
    "Controle e teste"
   ]
  }
 ],
 "metadata": {
  "colab": {
   "provenance": []
  },
  "kernelspec": {
   "display_name": "Python 3 (ipykernel)",
   "language": "python",
   "name": "python3"
  },
  "language_info": {
   "codemirror_mode": {
    "name": "ipython",
    "version": 3
   },
   "file_extension": ".py",
   "mimetype": "text/x-python",
   "name": "python",
   "nbconvert_exporter": "python",
   "pygments_lexer": "ipython3",
   "version": "3.12.3"
  }
 },
 "nbformat": 4,
 "nbformat_minor": 4
}
