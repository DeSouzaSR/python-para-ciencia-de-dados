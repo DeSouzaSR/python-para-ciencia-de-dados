{
 "cells": [
  {
   "cell_type": "markdown",
   "id": "31c8d73c-3b45-4e33-b02e-65e389debbe4",
   "metadata": {},
   "source": [
    "# Exercício de Python para Ciência de Dados\n",
    "\n",
    "\n",
    "Este exercício foi tirado do vídeo: [Hypothesis Testing Problems - T test](https://youtu.be/ILMx2seV2hM?si=c0bq3ELItaFyhjOf), da Pax Academy\n",
    "\n",
    "Celia faz uma viagem regular de carro para o trabalho que, anteriormente levava uma média de 42 minutos. O conselho local alterou recentemente o layout da estrada e Celia está convencida de que isso aumentou o tempo de viagem. Para investigar, ela registra o tempo de 12 viagens. As 12 viagens têm um tempo médio de 50 minutos e um desvio padrão de 15 minutos.\n",
    "\n",
    "Realize um teste de hipótese adequado no nível de 5% para identificar se há evidências de sua discordância de que o tempo médio de viagem aumentou.\n",
    "\n",
    "Definição da hipótese nula e da hipótese alternativa\n",
    "\n",
    "$H_0: \\mu = 42$\n",
    "\n",
    "$H_1: \\mu > 42$\n",
    "\n",
    "Este é um teste Unicaudau porque $\\mu > 42$. Portanto, a área de rejeição é de 0.05 ou 5%.\n",
    "\n",
    "A partir da tabela do teste t, temos que $df = n - 1 = 12 - 1 = 11$ graus de liberdade da amostra. E, sendo assim, o valor crítico $t_c = 1.796$"
   ]
  },
  {
   "cell_type": "markdown",
   "id": "29a6691e-dc0f-45dd-bf01-5cf52b0b6058",
   "metadata": {},
   "source": [
    "## Importando módulos"
   ]
  },
  {
   "cell_type": "code",
   "execution_count": 4,
   "id": "12493917-7ed6-47b9-8ec9-4156778bc48e",
   "metadata": {},
   "outputs": [],
   "source": [
    "import math"
   ]
  },
  {
   "cell_type": "markdown",
   "id": "5a7b7d1c-3236-475b-9083-4dc28f128a8c",
   "metadata": {},
   "source": [
    "## Definindos a função que calcula o teste t\n",
    "\n",
    "$$\n",
    "t = \\frac{\\bar{x} - \\mu_0}{s / \\sqrt{n}}\n",
    "$$"
   ]
  },
  {
   "cell_type": "code",
   "execution_count": 5,
   "id": "4ddde263-eda4-4523-8e26-85f3042872bb",
   "metadata": {},
   "outputs": [],
   "source": [
    "def t_test(mu_0, n, xbar, s):\n",
    "    return (xbar - mu_0) / (s / math.sqrt(n))"
   ]
  },
  {
   "cell_type": "markdown",
   "id": "6c9779bb-3dfb-4331-802d-e9dc5b3638da",
   "metadata": {},
   "source": [
    "## Entrada de dados"
   ]
  },
  {
   "cell_type": "code",
   "execution_count": 7,
   "id": "fb9d88e6-ad2a-4851-8a46-3afb70966c46",
   "metadata": {},
   "outputs": [],
   "source": [
    "#  Inputs\n",
    "t_critico = 1.796\n",
    "mu_0 = 42\n",
    "n = 12\n",
    "xbar = 50\n",
    "s = 15"
   ]
  },
  {
   "cell_type": "markdown",
   "id": "e24a87bb-27dd-4d26-bf4e-77e9e6de7698",
   "metadata": {},
   "source": [
    "## Cálculo do valor de t"
   ]
  },
  {
   "cell_type": "code",
   "execution_count": 8,
   "id": "73ad1049-7158-4197-a77a-bf443b3aaa99",
   "metadata": {},
   "outputs": [],
   "source": [
    "# Computation\n",
    "t = t_test( mu_0, n, xbar, s)"
   ]
  },
  {
   "cell_type": "markdown",
   "id": "fd6f9cea-5dec-4510-85f4-dab65cd64958",
   "metadata": {},
   "source": [
    "## Resultado"
   ]
  },
  {
   "cell_type": "code",
   "execution_count": 9,
   "id": "5be877e7-d995-4884-985a-8bb812083a82",
   "metadata": {},
   "outputs": [
    {
     "name": "stdout",
     "output_type": "stream",
     "text": [
      "Como t > valor crítico, rejeitamos H0\n"
     ]
    }
   ],
   "source": [
    "# Write out results\n",
    "if t > t_critico:\n",
    "    print(\"Como t > valor crítico, rejeitamos H0\")\n",
    "else:\n",
    "    print(\"Como t <= valor crítico, aceitamos H0\")"
   ]
  }
 ],
 "metadata": {
  "kernelspec": {
   "display_name": "Python 3 (ipykernel)",
   "language": "python",
   "name": "python3"
  },
  "language_info": {
   "codemirror_mode": {
    "name": "ipython",
    "version": 3
   },
   "file_extension": ".py",
   "mimetype": "text/x-python",
   "name": "python",
   "nbconvert_exporter": "python",
   "pygments_lexer": "ipython3",
   "version": "3.12.3"
  }
 },
 "nbformat": 4,
 "nbformat_minor": 5
}
